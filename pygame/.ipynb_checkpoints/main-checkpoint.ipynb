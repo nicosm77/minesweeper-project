{
 "cells": [
  {
   "cell_type": "code",
   "execution_count": 86,
   "id": "2a024a61-eb06-4e63-9e61-c00f4a5dd870",
   "metadata": {
    "tags": []
   },
   "outputs": [
    {
     "ename": "TypeError",
     "evalue": "size must be two numbers",
     "output_type": "error",
     "traceback": [
      "\u001b[0;31m---------------------------------------------------------------------------\u001b[0m",
      "\u001b[0;31mTypeError\u001b[0m                                 Traceback (most recent call last)",
      "Cell \u001b[0;32mIn[86], line 9\u001b[0m\n\u001b[1;32m      6\u001b[0m board \u001b[38;5;241m=\u001b[39m board(size)\n\u001b[1;32m      7\u001b[0m screensize \u001b[38;5;241m=\u001b[39m (\u001b[38;5;241m800\u001b[39m, \u001b[38;5;241m800\u001b[39m)\n\u001b[0;32m----> 9\u001b[0m game \u001b[38;5;241m=\u001b[39m game(board, screensize)\n\u001b[1;32m     10\u001b[0m game\u001b[38;5;241m.\u001b[39mrun()\n",
      "Cell \u001b[0;32mIn[85], line 14\u001b[0m, in \u001b[0;36mgame.__init__\u001b[0;34m(self, board, screensize)\u001b[0m\n\u001b[1;32m     11\u001b[0m \u001b[38;5;66;03m# piecesize uses the size of the screen divided by number of tiles to properly divide up screensize for each tile\u001b[39;00m\n\u001b[1;32m     12\u001b[0m \u001b[38;5;66;03m# does this for height and width\u001b[39;00m\n\u001b[1;32m     13\u001b[0m \u001b[38;5;28mself\u001b[39m\u001b[38;5;241m.\u001b[39mpiecesize \u001b[38;5;241m=\u001b[39m \u001b[38;5;28mself\u001b[39m\u001b[38;5;241m.\u001b[39mscreensize[\u001b[38;5;241m0\u001b[39m] \u001b[38;5;241m/\u001b[39m\u001b[38;5;241m/\u001b[39m \u001b[38;5;28mself\u001b[39m\u001b[38;5;241m.\u001b[39mboard\u001b[38;5;241m.\u001b[39mgetsize()[\u001b[38;5;241m1\u001b[39m], \u001b[38;5;28mself\u001b[39m\u001b[38;5;241m.\u001b[39mscreensize[\u001b[38;5;241m1\u001b[39m], \u001b[38;5;28mself\u001b[39m\u001b[38;5;241m.\u001b[39mscreensize[\u001b[38;5;241m1\u001b[39m] \u001b[38;5;241m/\u001b[39m\u001b[38;5;241m/\u001b[39m \u001b[38;5;28mself\u001b[39m\u001b[38;5;241m.\u001b[39mboard\u001b[38;5;241m.\u001b[39mgetsize()[\u001b[38;5;241m0\u001b[39m]\n\u001b[0;32m---> 14\u001b[0m \u001b[38;5;28mself\u001b[39m\u001b[38;5;241m.\u001b[39mloadimages()\n",
      "Cell \u001b[0;32mIn[85], line 59\u001b[0m, in \u001b[0;36mgame.loadimages\u001b[0;34m(self)\u001b[0m\n\u001b[1;32m     56\u001b[0m     \u001b[38;5;28;01mcontinue\u001b[39;00m\n\u001b[1;32m     58\u001b[0m image \u001b[38;5;241m=\u001b[39m pygame\u001b[38;5;241m.\u001b[39mimage\u001b[38;5;241m.\u001b[39mload(\u001b[38;5;124mr\u001b[39m\u001b[38;5;124m\"\u001b[39m\u001b[38;5;124mimages/\u001b[39m\u001b[38;5;124m\"\u001b[39m \u001b[38;5;241m+\u001b[39m name)\n\u001b[0;32m---> 59\u001b[0m image \u001b[38;5;241m=\u001b[39m pygame\u001b[38;5;241m.\u001b[39mtransform\u001b[38;5;241m.\u001b[39mscale(image, \u001b[38;5;28mself\u001b[39m\u001b[38;5;241m.\u001b[39mpiecesize)\n\u001b[1;32m     60\u001b[0m \u001b[38;5;28mself\u001b[39m\u001b[38;5;241m.\u001b[39mimages[name\u001b[38;5;241m.\u001b[39msplit(\u001b[38;5;124m\"\u001b[39m\u001b[38;5;124m.\u001b[39m\u001b[38;5;124m\"\u001b[39m)[\u001b[38;5;241m0\u001b[39m]] \u001b[38;5;241m=\u001b[39m image\n",
      "\u001b[0;31mTypeError\u001b[0m: size must be two numbers"
     ]
    }
   ],
   "source": [
    "import pygame\n",
    "#from classes import game\n",
    "#from classes import board\n",
    "size = (9,9)\n",
    "\n",
    "board = board(size)\n",
    "screensize = (800, 800)\n",
    "\n",
    "game = game(board, screensize)\n",
    "game.run()"
   ]
  },
  {
   "cell_type": "code",
   "execution_count": 85,
   "id": "d41977f1-983b-4b1b-895d-4c285b790146",
   "metadata": {
    "tags": []
   },
   "outputs": [],
   "source": [
    "import pygame\n",
    "import random\n",
    "\n",
    "class game():\n",
    "    \n",
    "    # initializer\n",
    "    def __init__(self, board, screensize):\n",
    "        self.board = board\n",
    "        self.screensize = screensize\n",
    "        \n",
    "        # piecesize uses the size of the screen divided by number of tiles to properly divide up screensize for each tile\n",
    "        # does this for height and width\n",
    "        self.piecesize = self.screensize[0] // self.board.getsize()[1], self.screensize[1], self.screensize[1] // self.board.getsize()[0]\n",
    "        self.loadimages()\n",
    "        \n",
    "        # runs game\n",
    "    def run(self):\n",
    "        pygame.init()\n",
    "        self.screen = pygame.display.set_mode(self.screensize)\n",
    "            \n",
    "        # while game is running\n",
    "        running = True\n",
    "        while running:\n",
    "            for event in pygame.event.get():\n",
    "                    \n",
    "                # if we quit game\n",
    "                if(event.type == pygame.QUIT):\n",
    "                    running = False # stops running\n",
    "                        \n",
    "                self.draw() # creates board\n",
    "                        \n",
    "            pygame.display.flip()\n",
    "        pygame.quit() # quits pygame\n",
    "            \n",
    "         # creates board   using pygame draw command \n",
    "    def draw(self):\n",
    "        topleft = (0,0)\n",
    "        for row in range(self.board.getsize()[0]): # gets number of rows in board\n",
    "            for col in range(self.board.getsize()[1]): # blit puts on image onto another\n",
    "                # gets the empty block image ( so we are filling the entire board with the empy block image )\n",
    "                image = self.images[\"empty-block\"]\n",
    "                self.screen.blit(image, topleft)\n",
    "                #increases width by size of each individual piece , height stays the same\n",
    "                topleft = topleft[0] + self.piecesize[0], topleft[1]\n",
    "            # sets width to be zero, increses height by size of each piece\n",
    "            topleft = 0, topleft[1] + self.piecesize[1]  \n",
    "                        \n",
    "                    \n",
    "        \n",
    "    def loadimages(self):\n",
    "        #dictionary links name of the png images to \n",
    "        self.images = {}\n",
    "        for name in os.listdir(\"images\"):\n",
    "                \n",
    "            if (not name.endswith(\".png\")):\n",
    "                continue\n",
    "                    \n",
    "            image = pygame.image.load(r\"images/\" + name)\n",
    "            image = pygame.transform.scale(image, self.piecesize)\n",
    "            self.images[name.split(\".\")[0]] = image\n",
    "                \n",
    "            \n",
    "            \n",
    "class board():\n",
    "    def __init__(self, size):\n",
    "        self.size = size\n",
    "        self.setboard()\n",
    "        \n",
    "    def setboard(self):\n",
    "        self.board = []\n",
    "        for row in range(self.size[0]):\n",
    "            row = []\n",
    "            for col in range(self.size[1]):\n",
    "                piece = None\n",
    "                row.append(piece)\n",
    "            self.board.append(row)\n",
    "    \n",
    "    \n",
    "    # gets board size\n",
    "    def getsize(self):\n",
    "        return self.size\n",
    "            \n",
    "    \n",
    "                    \n",
    "                        \n",
    "            "
   ]
  },
  {
   "cell_type": "code",
   "execution_count": 53,
   "id": "b132995f-e32d-4b94-aa2b-720c64fd8286",
   "metadata": {
    "tags": []
   },
   "outputs": [],
   "source": []
  },
  {
   "cell_type": "code",
   "execution_count": null,
   "id": "097acc4c-b655-4bb7-b28f-34682a06e233",
   "metadata": {},
   "outputs": [],
   "source": []
  }
 ],
 "metadata": {
  "kernelspec": {
   "display_name": "Python 3 (ipykernel)",
   "language": "python",
   "name": "python3"
  },
  "language_info": {
   "codemirror_mode": {
    "name": "ipython",
    "version": 3
   },
   "file_extension": ".py",
   "mimetype": "text/x-python",
   "name": "python",
   "nbconvert_exporter": "python",
   "pygments_lexer": "ipython3",
   "version": "3.11.5"
  }
 },
 "nbformat": 4,
 "nbformat_minor": 5
}
